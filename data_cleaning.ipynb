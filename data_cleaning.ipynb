{
 "cells": [
  {
   "cell_type": "markdown",
   "metadata": {},
   "source": [
    "# Data Cleaning"
   ]
  },
  {
   "cell_type": "code",
   "execution_count": 1,
   "metadata": {
    "collapsed": true
   },
   "outputs": [],
   "source": [
    "import numpy as np\n",
    "import pandas as pd"
   ]
  },
  {
   "cell_type": "markdown",
   "metadata": {},
   "source": [
    "### load data, drop unnecessary columns"
   ]
  },
  {
   "cell_type": "code",
   "execution_count": 223,
   "metadata": {
    "collapsed": true
   },
   "outputs": [],
   "source": [
    "recipes_ = pd.read_csv('../data_raw/recipes_0-63868.csv')\n",
    "recipes_.drop('Unnamed: 0', axis=1, inplace=True)\n"
   ]
  },
  {
   "cell_type": "markdown",
   "metadata": {},
   "source": [
    "### rename yield"
   ]
  },
  {
   "cell_type": "code",
   "execution_count": 227,
   "metadata": {
    "collapsed": true
   },
   "outputs": [],
   "source": [
    "recipes_.rename(columns=lambda x: x.replace('yield', 'yield_'), inplace=True)"
   ]
  },
  {
   "cell_type": "markdown",
   "metadata": {},
   "source": [
    "### clean single-value columns\n",
    "chef, difficulty, name, photo, rating, ratings, time_(cook, inactive, prep, total), url, yield"
   ]
  },
  {
   "cell_type": "code",
   "execution_count": 228,
   "metadata": {
    "collapsed": true
   },
   "outputs": [],
   "source": [
    "singles = ['chef', 'difficulty', 'name', 'photo', 'rating', 'ratings',\n",
    "           'time_cook', 'time_inactive', 'time_prep', 'time_total', 'url', 'yield_']"
   ]
  },
  {
   "cell_type": "code",
   "execution_count": 229,
   "metadata": {
    "collapsed": true
   },
   "outputs": [],
   "source": [
    "def clean_item_columns(string):\n",
    "    lst = []\n",
    "    chars = [\"[u'\",'[u\"',\"']\",'\"]',\"',\"]\n",
    "    for char in chars:\n",
    "        string = string.replace(char,'')\n",
    "    string = string.strip()\n",
    "    string_list = string.split(\"u'\")\n",
    "    for string_ in string_list:\n",
    "        string_ = string_.strip()\n",
    "        lst.append(string_)\n",
    "    if lst[0] == '[]':\n",
    "        return ''\n",
    "    else:\n",
    "        return lst[0]"
   ]
  },
  {
   "cell_type": "code",
   "execution_count": 230,
   "metadata": {
    "collapsed": false
   },
   "outputs": [],
   "source": [
    "for column in recipes_[singles].columns:\n",
    "    recipes_[column] = recipes_[column].map(clean_item_columns)"
   ]
  },
  {
   "cell_type": "markdown",
   "metadata": {},
   "source": [
    "### make names all caps"
   ]
  },
  {
   "cell_type": "code",
   "execution_count": 235,
   "metadata": {
    "collapsed": true
   },
   "outputs": [],
   "source": [
    "def names_upper(string):\n",
    "#     try:\n",
    "    return string.upper()\n",
    "#     except:\n",
    "#         pass"
   ]
  },
  {
   "cell_type": "code",
   "execution_count": 236,
   "metadata": {
    "collapsed": false
   },
   "outputs": [],
   "source": [
    "recipes_['name'] = recipes_['name'].map(names_upper)"
   ]
  },
  {
   "cell_type": "markdown",
   "metadata": {},
   "source": [
    "### clean list-value columns\n",
    "categories, ingredients"
   ]
  },
  {
   "cell_type": "code",
   "execution_count": 238,
   "metadata": {
    "collapsed": true
   },
   "outputs": [],
   "source": [
    "def clean_ingredients(string):\n",
    "    lst = []\n",
    "    chars = [\"[u'\",'[u\"',\"']\",'\"]',\"',\",'\",']\n",
    "    for char in chars:\n",
    "        string = string.replace(char,'')\n",
    "    string = string.strip()\n",
    "    string = string.lower()\n",
    "    string_list = string.split(\"u'\")\n",
    "    for string_ in string_list:\n",
    "        string_ = string_.strip()\n",
    "        lst.append(string_)\n",
    "    # to drop rows with no ingredients\n",
    "    if len(lst) > 1:\n",
    "        return lst\n",
    "    else:\n",
    "        return ''"
   ]
  },
  {
   "cell_type": "code",
   "execution_count": 239,
   "metadata": {
    "collapsed": false
   },
   "outputs": [],
   "source": [
    "def clean_categories(string):\n",
    "    lst = []\n",
    "    chars = [\"[u'\",'[u\"',\"']\",'\"]',\"',\",'\",']\n",
    "    for char in chars:\n",
    "        string = string.replace(char,'')\n",
    "    string = string.replace('u\"Mother\\'s',\"u'Mothers\")\n",
    "    string = string.lower()\n",
    "    string = string.strip()\n",
    "    string_list = string.split(\"u'\")\n",
    "    for string_ in string_list:\n",
    "        string_ = string_.strip()\n",
    "        lst.append(string_)\n",
    "    # to drop rows with no ingredients\n",
    "    if len(lst) > 1:\n",
    "        return lst\n",
    "    else:\n",
    "        return ''"
   ]
  },
  {
   "cell_type": "code",
   "execution_count": 240,
   "metadata": {
    "collapsed": false
   },
   "outputs": [],
   "source": [
    "recipes_['categories'] = recipes_.categories.map(clean_categories)\n",
    "recipes_['ingredients'] = recipes_.ingredients.map(clean_ingredients)"
   ]
  },
  {
   "cell_type": "markdown",
   "metadata": {},
   "source": [
    "### drop recipes with no ingredients or categories"
   ]
  },
  {
   "cell_type": "code",
   "execution_count": 242,
   "metadata": {
    "collapsed": false
   },
   "outputs": [
    {
     "data": {
      "text/plain": [
       "(3466, 15)"
      ]
     },
     "execution_count": 242,
     "metadata": {},
     "output_type": "execute_result"
    }
   ],
   "source": [
    "recipes_[recipes_.ingredients == ''].shape"
   ]
  },
  {
   "cell_type": "code",
   "execution_count": 243,
   "metadata": {
    "collapsed": false
   },
   "outputs": [
    {
     "data": {
      "text/plain": [
       "(3613, 15)"
      ]
     },
     "execution_count": 243,
     "metadata": {},
     "output_type": "execute_result"
    }
   ],
   "source": [
    "recipes_[recipes_.categories == ''].shape"
   ]
  },
  {
   "cell_type": "code",
   "execution_count": 244,
   "metadata": {
    "collapsed": false
   },
   "outputs": [
    {
     "data": {
      "text/plain": [
       "(2065, 15)"
      ]
     },
     "execution_count": 244,
     "metadata": {},
     "output_type": "execute_result"
    }
   ],
   "source": [
    "recipes_[(recipes_.categories == '') & (recipes_.ingredients == '')].shape"
   ]
  },
  {
   "cell_type": "code",
   "execution_count": 245,
   "metadata": {
    "collapsed": false
   },
   "outputs": [],
   "source": [
    "recipes_ = recipes_[(recipes_.categories != '') & (recipes_.ingredients != '')]\n",
    "recipes_ = recipes_[recipes_.ingredients != ''] \n"
   ]
  },
  {
   "cell_type": "code",
   "execution_count": 246,
   "metadata": {
    "collapsed": false
   },
   "outputs": [
    {
     "data": {
      "text/plain": [
       "(58854, 15)"
      ]
     },
     "execution_count": 246,
     "metadata": {},
     "output_type": "execute_result"
    }
   ],
   "source": [
    "recipes_.shape"
   ]
  },
  {
   "cell_type": "code",
   "execution_count": 247,
   "metadata": {
    "collapsed": false
   },
   "outputs": [
    {
     "data": {
      "text/plain": [
       "(0, 15)"
      ]
     },
     "execution_count": 247,
     "metadata": {},
     "output_type": "execute_result"
    }
   ],
   "source": [
    "recipes_[recipes_.categories == ''].shape"
   ]
  },
  {
   "cell_type": "markdown",
   "metadata": {},
   "source": [
    "### add column = ingredients_num"
   ]
  },
  {
   "cell_type": "code",
   "execution_count": 248,
   "metadata": {
    "collapsed": false
   },
   "outputs": [],
   "source": [
    "def numberize(lst):\n",
    "    return float(len(lst))"
   ]
  },
  {
   "cell_type": "code",
   "execution_count": 249,
   "metadata": {
    "collapsed": true
   },
   "outputs": [],
   "source": [
    "recipes_['ingredients_num'] = recipes_['ingredients'].map(numberize)\n",
    "# recipes_['categories_num'] = recipes_['categories'].map(numberize)"
   ]
  },
  {
   "cell_type": "code",
   "execution_count": 250,
   "metadata": {
    "collapsed": false
   },
   "outputs": [
    {
     "data": {
      "text/plain": [
       "0"
      ]
     },
     "execution_count": 250,
     "metadata": {},
     "output_type": "execute_result"
    }
   ],
   "source": [
    "# recipes_.ingredients_num.value_counts()\n",
    "recipes_.ingredients_num.isnull().sum()"
   ]
  },
  {
   "cell_type": "markdown",
   "metadata": {},
   "source": [
    "### clean column = name"
   ]
  },
  {
   "cell_type": "code",
   "execution_count": 251,
   "metadata": {
    "collapsed": true
   },
   "outputs": [],
   "source": [
    "# drop blank values"
   ]
  },
  {
   "cell_type": "code",
   "execution_count": 252,
   "metadata": {
    "collapsed": false,
    "scrolled": true
   },
   "outputs": [],
   "source": [
    "recipes_.name = recipes_.name[recipes_.name != '']"
   ]
  },
  {
   "cell_type": "code",
   "execution_count": 253,
   "metadata": {
    "collapsed": false
   },
   "outputs": [
    {
     "data": {
      "text/plain": [
       "GUACAMOLE             35\n",
       "TIRAMISU              23\n",
       "FRIED CHICKEN         19\n",
       "BASIC TOMATO SAUCE    19\n",
       "SHEPHERD'S PIE        19\n",
       "Name: name, dtype: int64"
      ]
     },
     "execution_count": 253,
     "metadata": {},
     "output_type": "execute_result"
    }
   ],
   "source": [
    "recipes_.name.value_counts().head()"
   ]
  },
  {
   "cell_type": "markdown",
   "metadata": {},
   "source": [
    "### clean column = difficulty"
   ]
  },
  {
   "cell_type": "code",
   "execution_count": 254,
   "metadata": {
    "collapsed": true
   },
   "outputs": [],
   "source": [
    "recipes_['difficulty'] = recipes_['difficulty'].map(lambda x: x if x != '' else 'Unknown')"
   ]
  },
  {
   "cell_type": "code",
   "execution_count": 255,
   "metadata": {
    "collapsed": false
   },
   "outputs": [
    {
     "data": {
      "text/plain": [
       "Easy            36139\n",
       "Unknown         11269\n",
       "Intermediate    10619\n",
       "Advanced          788\n",
       "Expert             39\n",
       "Name: difficulty, dtype: int64"
      ]
     },
     "execution_count": 255,
     "metadata": {},
     "output_type": "execute_result"
    }
   ],
   "source": [
    "recipes_.difficulty.value_counts()"
   ]
  },
  {
   "cell_type": "markdown",
   "metadata": {},
   "source": [
    "### scale"
   ]
  },
  {
   "cell_type": "code",
   "execution_count": 256,
   "metadata": {
    "collapsed": true
   },
   "outputs": [],
   "source": [
    "recipes_['difficulty_scale'] = recipes_['difficulty'].map(lambda x: 1 if x == 'Easy'\n",
    "                                                               else 2 if x == 'Intermediate'\n",
    "                                                               else 3 if x == 'Advanced'\n",
    "                                                               else 4 if x == 'Expert'\n",
    "                                                               else 0)"
   ]
  },
  {
   "cell_type": "code",
   "execution_count": 257,
   "metadata": {
    "collapsed": false
   },
   "outputs": [
    {
     "data": {
      "text/plain": [
       "1    36139\n",
       "0    11269\n",
       "2    10619\n",
       "3      788\n",
       "4       39\n",
       "Name: difficulty_scale, dtype: int64"
      ]
     },
     "execution_count": 257,
     "metadata": {},
     "output_type": "execute_result"
    }
   ],
   "source": [
    "recipes_.difficulty_scale.value_counts()"
   ]
  },
  {
   "cell_type": "markdown",
   "metadata": {},
   "source": [
    "### binarize - all difficulty values"
   ]
  },
  {
   "cell_type": "code",
   "execution_count": 258,
   "metadata": {
    "collapsed": false
   },
   "outputs": [],
   "source": [
    "recipes_['difficulty_easy'] = recipes_['difficulty'].map(lambda x: 1 if x == 'Easy' else 0)\n",
    "recipes_['difficulty_intermediate'] = recipes_['difficulty'].map(lambda x: 1 if x == 'Intermediate' else 0)\n",
    "recipes_['difficulty_advanced'] = recipes_['difficulty'].map(lambda x: 1 if x == 'Advanced' else 0)\n",
    "recipes_['difficulty_expert'] = recipes_['difficulty'].map(lambda x: 1 if x == 'Expert' else 0)\n",
    "recipes_['difficulty_unknown'] = recipes_['difficulty'].map(lambda x: 1 if x == 'Unknown' else 0)"
   ]
  },
  {
   "cell_type": "code",
   "execution_count": 259,
   "metadata": {
    "collapsed": false
   },
   "outputs": [
    {
     "data": {
      "text/plain": [
       "array([0, 1])"
      ]
     },
     "execution_count": 259,
     "metadata": {},
     "output_type": "execute_result"
    }
   ],
   "source": [
    "recipes_.difficulty_intermediate.unique()"
   ]
  },
  {
   "cell_type": "markdown",
   "metadata": {},
   "source": [
    "### clean column = time_cook, time_inactive"
   ]
  },
  {
   "cell_type": "code",
   "execution_count": 260,
   "metadata": {
    "collapsed": true
   },
   "outputs": [],
   "source": [
    "def clean_time(string):\n",
    "    chars = [\"<dd>\",'</dd>']\n",
    "    for char in chars:\n",
    "        string = string.replace(char,'')\n",
    "    return string"
   ]
  },
  {
   "cell_type": "code",
   "execution_count": 261,
   "metadata": {
    "collapsed": true
   },
   "outputs": [],
   "source": [
    "recipes_['time_cook'] = recipes_['time_cook'].map(clean_time)\n",
    "recipes_['time_inactive'] = recipes_['time_inactive'].map(clean_time)"
   ]
  },
  {
   "cell_type": "markdown",
   "metadata": {},
   "source": [
    "### clean column = directions\n",
    "beautiful soup it"
   ]
  },
  {
   "cell_type": "code",
   "execution_count": 262,
   "metadata": {
    "collapsed": false
   },
   "outputs": [],
   "source": [
    "from bs4 import BeautifulSoup"
   ]
  },
  {
   "cell_type": "code",
   "execution_count": 263,
   "metadata": {
    "collapsed": true
   },
   "outputs": [],
   "source": [
    "def clean_directions(string):\n",
    "    soup = BeautifulSoup(string, \"lxml\")\n",
    "    text = soup.get_text()\n",
    "    return text"
   ]
  },
  {
   "cell_type": "code",
   "execution_count": 264,
   "metadata": {
    "collapsed": true
   },
   "outputs": [],
   "source": [
    "def clean_directions(string):\n",
    "    directions = ''\n",
    "    soup = BeautifulSoup(string, \"lxml\")\n",
    "    text = soup.get_text()\n",
    "    for item in text:\n",
    "        directions += item\n",
    "    return directions"
   ]
  },
  {
   "cell_type": "code",
   "execution_count": 265,
   "metadata": {
    "collapsed": true
   },
   "outputs": [],
   "source": [
    "# still need to figure out how to get rid of some of the markup in this\n",
    "# the output is unicode"
   ]
  },
  {
   "cell_type": "code",
   "execution_count": 266,
   "metadata": {
    "collapsed": false
   },
   "outputs": [],
   "source": [
    "recipes_['directions'] = recipes_['directions'].map(clean_directions)"
   ]
  },
  {
   "cell_type": "markdown",
   "metadata": {},
   "source": [
    "### clean column = rating, ratings\n",
    "convert to numeric values"
   ]
  },
  {
   "cell_type": "code",
   "execution_count": 267,
   "metadata": {
    "collapsed": true
   },
   "outputs": [],
   "source": [
    "# recipes_ = pd.read_csv('../data_clean/recipes_clean.csv')"
   ]
  },
  {
   "cell_type": "code",
   "execution_count": 268,
   "metadata": {
    "collapsed": false
   },
   "outputs": [],
   "source": [
    "def clean_ratings(string):\n",
    "    string_list = string.split()\n",
    "    try:\n",
    "        return float(string_list[0])\n",
    "    except:\n",
    "        return 0"
   ]
  },
  {
   "cell_type": "code",
   "execution_count": 269,
   "metadata": {
    "collapsed": true
   },
   "outputs": [],
   "source": [
    "# def clean_ratings(num):\n",
    "#     if num == 0:\n",
    "#         return np.nan\n",
    "#     else:\n",
    "#         return num"
   ]
  },
  {
   "cell_type": "code",
   "execution_count": 270,
   "metadata": {
    "collapsed": false
   },
   "outputs": [],
   "source": [
    "recipes_['rating'] = recipes_['rating'].map(clean_ratings)\n",
    "recipes_['ratings'] = recipes_['ratings'].map(clean_ratings)"
   ]
  },
  {
   "cell_type": "code",
   "execution_count": 271,
   "metadata": {
    "collapsed": false
   },
   "outputs": [],
   "source": [
    "# recipes_.to_csv('../data_clean/recipes_clean.csv')"
   ]
  },
  {
   "cell_type": "markdown",
   "metadata": {},
   "source": [
    "### clean column = time_(prep, inactive, cook, total)\n",
    "convert to minute values"
   ]
  },
  {
   "cell_type": "code",
   "execution_count": 272,
   "metadata": {
    "collapsed": true
   },
   "outputs": [],
   "source": [
    "def numberize_times(string):\n",
    "    \n",
    "    string_list = string.split()\n",
    "    \n",
    "    if len(string_list) == 2 and string_list[1] != 'hr':\n",
    "        return float(string_list[0])\n",
    "    elif len(string_list) == 2 and string_list[1] == 'hr':\n",
    "        return 60.*(float(string_list[0]))\n",
    "    elif len(string_list) > 2:\n",
    "        return 60.*(float(string_list[0])) + float(string_list[2])\n",
    "    else:\n",
    "        return 0"
   ]
  },
  {
   "cell_type": "code",
   "execution_count": 273,
   "metadata": {
    "collapsed": false
   },
   "outputs": [],
   "source": [
    "recipes_['time_cook'] = recipes_['time_cook'].map(numberize_times)\n",
    "recipes_['time_prep'] = recipes_['time_prep'].map(numberize_times)\n",
    "recipes_['time_inactive'] = recipes_['time_inactive'].map(numberize_times)\n",
    "recipes_['time_total'] = recipes_['time_total'].map(numberize_times)"
   ]
  },
  {
   "cell_type": "markdown",
   "metadata": {},
   "source": [
    "### add column = photo_binary"
   ]
  },
  {
   "cell_type": "code",
   "execution_count": 274,
   "metadata": {
    "collapsed": true
   },
   "outputs": [],
   "source": [
    "recipes_['photo_binary'] = recipes_['photo'].map(lambda x: 0 if x == '' else 1)"
   ]
  },
  {
   "cell_type": "code",
   "execution_count": 275,
   "metadata": {
    "collapsed": false
   },
   "outputs": [
    {
     "data": {
      "text/plain": [
       "1    31674\n",
       "0    27180\n",
       "Name: photo_binary, dtype: int64"
      ]
     },
     "execution_count": 275,
     "metadata": {},
     "output_type": "execute_result"
    }
   ],
   "source": [
    "recipes_['photo_binary'].value_counts()"
   ]
  },
  {
   "cell_type": "markdown",
   "metadata": {},
   "source": [
    "### create 3 category columns and append each category-list item"
   ]
  },
  {
   "cell_type": "code",
   "execution_count": 276,
   "metadata": {
    "collapsed": true
   },
   "outputs": [],
   "source": [
    "def category_column_1(lst):\n",
    "    try:\n",
    "        return lst[0]\n",
    "    except:\n",
    "        return ''"
   ]
  },
  {
   "cell_type": "code",
   "execution_count": 277,
   "metadata": {
    "collapsed": true
   },
   "outputs": [],
   "source": [
    "def category_column_2(lst):\n",
    "    try:\n",
    "        return lst[1]\n",
    "    except:\n",
    "        return ''"
   ]
  },
  {
   "cell_type": "code",
   "execution_count": 278,
   "metadata": {
    "collapsed": true
   },
   "outputs": [],
   "source": [
    "def category_column_3(lst):\n",
    "    try:\n",
    "        return lst[2]\n",
    "    except:\n",
    "        return ''"
   ]
  },
  {
   "cell_type": "code",
   "execution_count": 279,
   "metadata": {
    "collapsed": true
   },
   "outputs": [],
   "source": [
    "recipes_['category_1'] = recipes_['categories'].map(category_column_1)\n",
    "recipes_['category_2'] = recipes_['categories'].map(category_column_2)\n",
    "recipes_['category_3'] = recipes_['categories'].map(category_column_3)"
   ]
  },
  {
   "cell_type": "markdown",
   "metadata": {},
   "source": [
    "### create numerical category columns"
   ]
  },
  {
   "cell_type": "code",
   "execution_count": 280,
   "metadata": {
    "collapsed": true
   },
   "outputs": [],
   "source": [
    "unique_categories = []\n",
    "def category_list(lst):\n",
    "    for item in lst:\n",
    "        if item not in unique_categories:\n",
    "            unique_categories.append(item)\n",
    "        else:\n",
    "            pass"
   ]
  },
  {
   "cell_type": "code",
   "execution_count": 281,
   "metadata": {
    "collapsed": false,
    "scrolled": true
   },
   "outputs": [
    {
     "data": {
      "text/plain": [
       "0        None\n",
       "1        None\n",
       "2        None\n",
       "3        None\n",
       "4        None\n",
       "5        None\n",
       "6        None\n",
       "7        None\n",
       "8        None\n",
       "9        None\n",
       "10       None\n",
       "11       None\n",
       "12       None\n",
       "13       None\n",
       "14       None\n",
       "15       None\n",
       "16       None\n",
       "17       None\n",
       "18       None\n",
       "19       None\n",
       "20       None\n",
       "21       None\n",
       "22       None\n",
       "23       None\n",
       "24       None\n",
       "25       None\n",
       "26       None\n",
       "27       None\n",
       "28       None\n",
       "29       None\n",
       "         ... \n",
       "63836    None\n",
       "63837    None\n",
       "63838    None\n",
       "63839    None\n",
       "63840    None\n",
       "63841    None\n",
       "63842    None\n",
       "63844    None\n",
       "63845    None\n",
       "63846    None\n",
       "63847    None\n",
       "63848    None\n",
       "63849    None\n",
       "63850    None\n",
       "63851    None\n",
       "63852    None\n",
       "63853    None\n",
       "63854    None\n",
       "63855    None\n",
       "63856    None\n",
       "63857    None\n",
       "63858    None\n",
       "63859    None\n",
       "63860    None\n",
       "63861    None\n",
       "63862    None\n",
       "63863    None\n",
       "63864    None\n",
       "63866    None\n",
       "63867    None\n",
       "Name: categories, dtype: object"
      ]
     },
     "execution_count": 281,
     "metadata": {},
     "output_type": "execute_result"
    }
   ],
   "source": [
    "recipes_.categories.map(category_list)"
   ]
  },
  {
   "cell_type": "code",
   "execution_count": 282,
   "metadata": {
    "collapsed": false
   },
   "outputs": [
    {
     "name": "stdout",
     "output_type": "stream",
     "text": [
      "424\n"
     ]
    }
   ],
   "source": [
    "print len(unique_categories)"
   ]
  },
  {
   "cell_type": "code",
   "execution_count": 283,
   "metadata": {
    "collapsed": false
   },
   "outputs": [],
   "source": [
    "# category_range = []\n",
    "# for i in range(1,(len(unique_categories)+1)):\n",
    "#     category_range.append(i)\n",
    "# categories_numerical = zip(category_range, unique_categories)\n",
    "# categories_numerical[:5]"
   ]
  },
  {
   "cell_type": "code",
   "execution_count": 284,
   "metadata": {
    "collapsed": false
   },
   "outputs": [
    {
     "data": {
      "text/plain": [
       "2"
      ]
     },
     "execution_count": 284,
     "metadata": {},
     "output_type": "execute_result"
    }
   ],
   "source": [
    "unique_categories.index('apple')"
   ]
  },
  {
   "cell_type": "code",
   "execution_count": 285,
   "metadata": {
    "collapsed": false
   },
   "outputs": [],
   "source": [
    "def categories_numerical_values(string):\n",
    "    try:\n",
    "        return float(unique_categories.index(string)+1)\n",
    "    except:\n",
    "        return 0"
   ]
  },
  {
   "cell_type": "code",
   "execution_count": 286,
   "metadata": {
    "collapsed": false
   },
   "outputs": [],
   "source": [
    "recipes_['category_1_num'] = recipes_['category_1'].map(categories_numerical_values)\n",
    "recipes_['category_2_num'] = recipes_['category_2'].map(categories_numerical_values)\n",
    "recipes_['category_3_num'] = recipes_['category_3'].map(categories_numerical_values)"
   ]
  },
  {
   "cell_type": "code",
   "execution_count": 287,
   "metadata": {
    "collapsed": true
   },
   "outputs": [],
   "source": [
    "# category_dict['category'] = [category for category in unique_categories]"
   ]
  },
  {
   "cell_type": "code",
   "execution_count": 288,
   "metadata": {
    "collapsed": true
   },
   "outputs": [],
   "source": [
    "category_df = pd.DataFrame(unique_categories)"
   ]
  },
  {
   "cell_type": "code",
   "execution_count": 289,
   "metadata": {
    "collapsed": false
   },
   "outputs": [],
   "source": [
    "category_df.reset_index(inplace=True)"
   ]
  },
  {
   "cell_type": "code",
   "execution_count": 290,
   "metadata": {
    "collapsed": false
   },
   "outputs": [],
   "source": [
    "def reset_indx(num):\n",
    "    return num+1\n",
    "\n",
    "category_df['index'] = category_df['index'].map(reset_indx)"
   ]
  },
  {
   "cell_type": "code",
   "execution_count": 291,
   "metadata": {
    "collapsed": false
   },
   "outputs": [
    {
     "data": {
      "text/plain": [
       "Index([u'index', 0], dtype='object')"
      ]
     },
     "execution_count": 291,
     "metadata": {},
     "output_type": "execute_result"
    }
   ],
   "source": [
    "category_df.columns"
   ]
  },
  {
   "cell_type": "code",
   "execution_count": 292,
   "metadata": {
    "collapsed": false
   },
   "outputs": [
    {
     "data": {
      "text/html": [
       "<div>\n",
       "<table border=\"1\" class=\"dataframe\">\n",
       "  <thead>\n",
       "    <tr style=\"text-align: right;\">\n",
       "      <th></th>\n",
       "      <th>index</th>\n",
       "      <th>0</th>\n",
       "    </tr>\n",
       "  </thead>\n",
       "  <tbody>\n",
       "    <tr>\n",
       "      <th>0</th>\n",
       "      <td>1</td>\n",
       "      <td>bourbon</td>\n",
       "    </tr>\n",
       "    <tr>\n",
       "      <th>1</th>\n",
       "      <td>2</td>\n",
       "      <td>dessert</td>\n",
       "    </tr>\n",
       "    <tr>\n",
       "      <th>2</th>\n",
       "      <td>3</td>\n",
       "      <td>apple</td>\n",
       "    </tr>\n",
       "    <tr>\n",
       "      <th>3</th>\n",
       "      <td>4</td>\n",
       "      <td>side dish</td>\n",
       "    </tr>\n",
       "    <tr>\n",
       "      <th>4</th>\n",
       "      <td>5</td>\n",
       "      <td>sauce</td>\n",
       "    </tr>\n",
       "  </tbody>\n",
       "</table>\n",
       "</div>"
      ],
      "text/plain": [
       "   index          0\n",
       "0      1    bourbon\n",
       "1      2    dessert\n",
       "2      3      apple\n",
       "3      4  side dish\n",
       "4      5      sauce"
      ]
     },
     "execution_count": 292,
     "metadata": {},
     "output_type": "execute_result"
    }
   ],
   "source": [
    "category_df.head()"
   ]
  },
  {
   "cell_type": "code",
   "execution_count": 293,
   "metadata": {
    "collapsed": false
   },
   "outputs": [],
   "source": [
    "category_df.to_csv('../data_raw/categories_no_nan.csv')"
   ]
  },
  {
   "cell_type": "markdown",
   "metadata": {},
   "source": [
    "### get rid of unicode in directions"
   ]
  },
  {
   "cell_type": "code",
   "execution_count": 294,
   "metadata": {
    "collapsed": true
   },
   "outputs": [],
   "source": [
    "def no_more_unicode(uni_code):\n",
    "    return str(uni_code)"
   ]
  },
  {
   "cell_type": "code",
   "execution_count": 353,
   "metadata": {
    "collapsed": true
   },
   "outputs": [],
   "source": [
    "recipes_['directions'] = recipes_['directions'].map(no_more_unicode)"
   ]
  },
  {
   "cell_type": "markdown",
   "metadata": {},
   "source": [
    "### get rid of unicode characters in directions"
   ]
  },
  {
   "cell_type": "code",
   "execution_count": 354,
   "metadata": {
    "collapsed": true
   },
   "outputs": [],
   "source": [
    "def no_more_unicode_characters(string):\n",
    "    chars = [\"[u'\",'[u\"',\"']\",'\"]',\"',\",'\",',\"',\",'u\"',\"u'\",\"\\'\"]\n",
    "    for char in chars:\n",
    "        string = string.replace(char,'')\n",
    "    string = string.strip()\n",
    "    return string"
   ]
  },
  {
   "cell_type": "code",
   "execution_count": 355,
   "metadata": {
    "collapsed": false
   },
   "outputs": [],
   "source": [
    "recipes_['directions'] = recipes_['directions'].map(no_more_unicode_characters)"
   ]
  },
  {
   "cell_type": "markdown",
   "metadata": {},
   "source": [
    "### add a column for length of instructions (characters)"
   ]
  },
  {
   "cell_type": "code",
   "execution_count": 298,
   "metadata": {
    "collapsed": true
   },
   "outputs": [],
   "source": [
    "def directions_length(string):\n",
    "    return float(len(string))"
   ]
  },
  {
   "cell_type": "code",
   "execution_count": 356,
   "metadata": {
    "collapsed": true
   },
   "outputs": [],
   "source": [
    "recipes_['directions_len'] = recipes_['directions'].map(directions_length)"
   ]
  },
  {
   "cell_type": "markdown",
   "metadata": {},
   "source": [
    "### clean up the chef column as best as possible"
   ]
  },
  {
   "cell_type": "code",
   "execution_count": 409,
   "metadata": {
    "collapsed": true
   },
   "outputs": [],
   "source": [
    "tmp = recipes_"
   ]
  },
  {
   "cell_type": "code",
   "execution_count": 447,
   "metadata": {
    "collapsed": true
   },
   "outputs": [],
   "source": [
    "def clean_chef(string):\n",
    "    string = string.lower()\n",
    "    chars = ['recipe courtesy of ', 'courtesy of', 'for food network magazine', 'all rights reserved',\n",
    "             '1','2','3','4','5','6','7','8','9','0', '.', ',', 'from', 'copyright', 'recipe', 'by']\n",
    "    for char in chars:\n",
    "        string = string.replace(char,'')\n",
    "    string = string.strip()\n",
    "    return string\n",
    "    "
   ]
  },
  {
   "cell_type": "code",
   "execution_count": 448,
   "metadata": {
    "collapsed": true
   },
   "outputs": [],
   "source": [
    "tmp['chef'] = tmp['chef'].map(clean_chef)"
   ]
  },
  {
   "cell_type": "markdown",
   "metadata": {},
   "source": [
    "### check results on everything"
   ]
  },
  {
   "cell_type": "code",
   "execution_count": 459,
   "metadata": {
    "collapsed": false,
    "scrolled": false
   },
   "outputs": [
    {
     "name": "stdout",
     "output_type": "stream",
     "text": [
      "categories:  \n",
      "<type 'list'> \n",
      "['eggs', 'breakfast', 'poaching'] \n",
      "\n",
      "chef:  \n",
      "<type 'str'> \n",
      "cafe \n",
      "\n",
      "difficulty:  \n",
      "<type 'str'> \n",
      "Intermediate \n",
      "\n",
      "directions:  \n",
      "<type 'str'> \n",
      "Preheat the oven to 350 degrees F. Make sure all ingredients are at room temperature before you start. In a large bowl place the potatoes, olive oil, all-purpose seasoning and green pepper. Mix well until all ingredients are combined, then add salt, to taste. Transfer the potatoes to a baking pan and place in the preheated oven for about 20 minutes or until potatoes are soft. Set aside. While the potatoes are in the oven, heat a large skillet over medium-high heat. Add the Mexican chorizo and saute until it separates and has a crumbled consistency, about 8 minutes. Then set aside.  For the spicy hollandaise sauce: Set an stainless steel bowl over a pot with barely simmering water. The bowl should fit the pot but barely touching the water. Place the butter into the bowl and whisk until it is melted. Add the egg yolks, 1 at a time, and whisk until each is incorporated. Add the cayenne powder, chili powder, lemon juice and salt and pepper, to taste. Add a few drops of water to adjust the consistency and then set the sauce aside, off the heat.  To poach the eggs, in the same saucepot with the simmering water, add a teaspoon of white vinegar. Break the eggs very carefully and place 1 by 1 inside the water for about 50 seconds to 1 minute. When your eggs are poached, you are ready to serve. Place 2 halves of the English muffins on a plate and then layer on top the following ingredients; chorizo, roasted potatoes, sliced tomato and poached eggs. Top each egg with the hollandaise sauce and serve.  This recipe was provided by professional chefs and has been scaled down from a bulk recipe provided by a restaurant. The Food Network Kitchens chefs have not tested this recipe, in the proportions indicated, and therefore, we cannot make any representation as to the results. \n",
      "\n",
      "ingredients:  \n",
      "<type 'list'> \n",
      "['5 medium red potatoes, skin on, medium dice', '3 tablespoons olive oil', '3 tablespoons natural all-purpose seasoning', '2 medium green peppers, medium dice', 'salt', '1 pound mexican chorizo or a soft, spicy italian sausage', '1 teaspoon white vinegar', '8 eggs', '4 english muffins, cut in 1/2 and toasted', '8 tomato slices', '1/2 pound of unsalted butter', '3 egg yolks', '1/4 teaspoon cayenne pepper', '1/4 teaspoon chili powder', 'lemon juice', 'salt', '1/4 teaspoon freshly ground black pepper', '1/3 cup of warm water'] \n",
      "\n",
      "name:  \n",
      "<type 'str'> \n",
      "SOUTHWESTERN BENEDICT RECIPE \n",
      "\n",
      "photo:  \n",
      "<type 'str'> \n",
      "http://foodnetwork.sndimg.com/content/dam/images/food/fullset/2007/4/24/0/ry0406_eggsbenedict.jpg.rend.sni12col.landscape.jpeg \n",
      "\n",
      "rating:  \n",
      "<type 'numpy.float64'> \n",
      "5.0 \n",
      "\n",
      "ratings:  \n",
      "<type 'numpy.float64'> \n",
      "3.0 \n",
      "\n",
      "time_cook:  \n",
      "<type 'numpy.float64'> \n",
      "45.0 \n",
      "\n",
      "time_inactive:  \n",
      "<type 'numpy.float64'> \n",
      "0.0 \n",
      "\n",
      "time_prep:  \n",
      "<type 'numpy.float64'> \n",
      "10.0 \n",
      "\n",
      "time_total:  \n",
      "<type 'numpy.float64'> \n",
      "55.0 \n",
      "\n",
      "url:  \n",
      "<type 'str'> \n",
      "http://www.foodnetwork.com/recipes/southwestern-benedict-recipe-recipe.html \n",
      "\n",
      "yield_:  \n",
      "<type 'str'> \n",
      "4 servings \n",
      "\n",
      "ingredients_num:  \n",
      "<type 'numpy.float64'> \n",
      "18.0 \n",
      "\n",
      "difficulty_scale:  \n",
      "<type 'numpy.int64'> \n",
      "2 \n",
      "\n",
      "difficulty_easy:  \n",
      "<type 'numpy.int64'> \n",
      "0 \n",
      "\n",
      "difficulty_intermediate:  \n",
      "<type 'numpy.int64'> \n",
      "1 \n",
      "\n",
      "difficulty_advanced:  \n",
      "<type 'numpy.int64'> \n",
      "0 \n",
      "\n",
      "difficulty_expert:  \n",
      "<type 'numpy.int64'> \n",
      "0 \n",
      "\n",
      "difficulty_unknown:  \n",
      "<type 'numpy.int64'> \n",
      "0 \n",
      "\n",
      "photo_binary:  \n",
      "<type 'numpy.int64'> \n",
      "1 \n",
      "\n",
      "category_1:  \n",
      "<type 'str'> \n",
      "eggs \n",
      "\n",
      "category_2:  \n",
      "<type 'str'> \n",
      "breakfast \n",
      "\n",
      "category_3:  \n",
      "<type 'str'> \n",
      "poaching \n",
      "\n",
      "category_1_num:  \n",
      "<type 'numpy.float64'> \n",
      "42.0 \n",
      "\n",
      "category_2_num:  \n",
      "<type 'numpy.float64'> \n",
      "40.0 \n",
      "\n",
      "category_3_num:  \n",
      "<type 'numpy.float64'> \n",
      "220.0 \n",
      "\n",
      "directions_len:  \n",
      "<type 'numpy.float64'> \n",
      "1790.0 \n",
      "\n"
     ]
    }
   ],
   "source": [
    "# recipes = recipes_\n",
    "\n",
    "random = int(tmp.shape[0]*np.random.rand())\n",
    "\n",
    "# not_directions = [col for col in recipes_.columns if col != 'directions']\n",
    "\n",
    "# for column in recipes[not_directions].columns:\n",
    "for column in tmp.columns:\n",
    "    print \"%s: \" % column, '\\n', type(tmp[column][random]), '\\n', tmp[column][random], '\\n'"
   ]
  }
 ],
 "metadata": {
  "anaconda-cloud": {},
  "kernelspec": {
   "display_name": "Python [dsi]",
   "language": "python",
   "name": "Python [dsi]"
  },
  "language_info": {
   "codemirror_mode": {
    "name": "ipython",
    "version": 2
   },
   "file_extension": ".py",
   "mimetype": "text/x-python",
   "name": "python",
   "nbconvert_exporter": "python",
   "pygments_lexer": "ipython2",
   "version": "2.7.12"
  }
 },
 "nbformat": 4,
 "nbformat_minor": 0
}
